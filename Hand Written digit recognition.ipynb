{
 "cells": [
  {
   "cell_type": "code",
   "execution_count": 1,
   "id": "fdfd8e00",
   "metadata": {},
   "outputs": [],
   "source": [
    "from keras.datasets import mnist"
   ]
  },
  {
   "cell_type": "code",
   "execution_count": 2,
   "id": "a6700e71",
   "metadata": {},
   "outputs": [
    {
     "name": "stdout",
     "output_type": "stream",
     "text": [
      "Downloading data from https://storage.googleapis.com/tensorflow/tf-keras-datasets/mnist.npz\n",
      "11493376/11490434 [==============================] - 2s 0us/step\n"
     ]
    }
   ],
   "source": [
    "dataset=mnist.load_data('mnist.db')"
   ]
  },
  {
   "cell_type": "code",
   "execution_count": 4,
   "id": "e8793704",
   "metadata": {},
   "outputs": [],
   "source": [
    "# partioning dataset in train and test data(tuple unpacking)\n",
    "train,test=dataset"
   ]
  },
  {
   "cell_type": "code",
   "execution_count": 6,
   "id": "f8fc29af",
   "metadata": {},
   "outputs": [
    {
     "data": {
      "text/plain": [
       "2"
      ]
     },
     "execution_count": 6,
     "metadata": {},
     "output_type": "execute_result"
    }
   ],
   "source": [
    "len(train)"
   ]
  },
  {
   "cell_type": "code",
   "execution_count": 5,
   "id": "d37138c0",
   "metadata": {},
   "outputs": [],
   "source": [
    "X_train, y_train = train\n",
    "X_test, y_test = test"
   ]
  },
  {
   "cell_type": "code",
   "execution_count": 7,
   "id": "e7243fb6",
   "metadata": {},
   "outputs": [
    {
     "data": {
      "text/plain": [
       "60000"
      ]
     },
     "execution_count": 7,
     "metadata": {},
     "output_type": "execute_result"
    }
   ],
   "source": [
    "len(X_train)"
   ]
  },
  {
   "cell_type": "code",
   "execution_count": 81,
   "id": "b397c0b5",
   "metadata": {},
   "outputs": [
    {
     "data": {
      "text/plain": [
       "array([[0, 0, 0, ..., 0, 0, 0],\n",
       "       [0, 0, 0, ..., 0, 0, 0],\n",
       "       [0, 0, 0, ..., 0, 0, 0],\n",
       "       ...,\n",
       "       [0, 0, 0, ..., 0, 0, 0],\n",
       "       [0, 0, 0, ..., 0, 0, 0],\n",
       "       [0, 0, 0, ..., 0, 0, 0]], dtype=uint8)"
      ]
     },
     "execution_count": 81,
     "metadata": {},
     "output_type": "execute_result"
    }
   ],
   "source": [
    "X_train"
   ]
  },
  {
   "cell_type": "code",
   "execution_count": 8,
   "id": "16771408",
   "metadata": {},
   "outputs": [
    {
     "data": {
      "text/plain": [
       "10000"
      ]
     },
     "execution_count": 8,
     "metadata": {},
     "output_type": "execute_result"
    }
   ],
   "source": [
    "len(X_test)"
   ]
  },
  {
   "cell_type": "code",
   "execution_count": 69,
   "id": "020eae42",
   "metadata": {},
   "outputs": [],
   "source": [
    "X_train = X_train.reshape(-1,28*28)\n"
   ]
  },
  {
   "cell_type": "code",
   "execution_count": 35,
   "id": "3bfbbd77",
   "metadata": {},
   "outputs": [
    {
     "data": {
      "text/plain": [
       "(60000, 784)"
      ]
     },
     "execution_count": 35,
     "metadata": {},
     "output_type": "execute_result"
    }
   ],
   "source": [
    "X_train.shape"
   ]
  },
  {
   "cell_type": "code",
   "execution_count": 65,
   "id": "4f0c0fee",
   "metadata": {},
   "outputs": [],
   "source": [
    "import matplotlib.pyplot as plt"
   ]
  },
  {
   "cell_type": "code",
   "execution_count": 70,
   "id": "14ab072e",
   "metadata": {},
   "outputs": [],
   "source": [
    "img= X_train[300]"
   ]
  },
  {
   "cell_type": "code",
   "execution_count": 78,
   "id": "b8021d49",
   "metadata": {},
   "outputs": [
    {
     "data": {
      "text/plain": [
       "(1, 784)"
      ]
     },
     "execution_count": 78,
     "metadata": {},
     "output_type": "execute_result"
    }
   ],
   "source": [
    "img.shape"
   ]
  },
  {
   "cell_type": "code",
   "execution_count": 79,
   "id": "213d7939",
   "metadata": {},
   "outputs": [
    {
     "data": {
      "text/plain": [
       "<matplotlib.image.AxesImage at 0x14da6f32be0>"
      ]
     },
     "execution_count": 79,
     "metadata": {},
     "output_type": "execute_result"
    },
    {
     "data": {
      "image/png": "[encoded data removed]",
      "text/plain": [
       "<Figure size 432x288 with 1 Axes>"
      ]
     },
     "metadata": {
      "needs_background": "light"
     },
     "output_type": "display_data"
    }
   ],
   "source": [
    "plt.imshow(img)"
   ]
  },
  {
   "cell_type": "code",
   "execution_count": 36,
   "id": "e7ec16c2",
   "metadata": {},
   "outputs": [
    {
     "data": {
      "text/plain": [
       "(60000,)"
      ]
     },
     "execution_count": 36,
     "metadata": {},
     "output_type": "execute_result"
    }
   ],
   "source": [
    "y_train.shape"
   ]
  },
  {
   "cell_type": "code",
   "execution_count": 37,
   "id": "be748a58",
   "metadata": {},
   "outputs": [
    {
     "data": {
      "text/plain": [
       "array([5, 0, 4, ..., 5, 6, 8], dtype=uint8)"
      ]
     },
     "execution_count": 37,
     "metadata": {},
     "output_type": "execute_result"
    }
   ],
   "source": [
    "#we have 10 classes from (0..9)\n",
    "y_train"
   ]
  },
  {
   "cell_type": "code",
   "execution_count": 38,
   "id": "0693251f",
   "metadata": {},
   "outputs": [],
   "source": [
    " from keras.utils.np_utils import to_categorical"
   ]
  },
  {
   "cell_type": "code",
   "execution_count": 49,
   "id": "c8a21755",
   "metadata": {},
   "outputs": [],
   "source": [
    "y_train_cat=to_categorical(y_train)\n",
    "y_test_cat = to_categorical(y_test)"
   ]
  },
  {
   "cell_type": "code",
   "execution_count": 42,
   "id": "3ce09d7e",
   "metadata": {},
   "outputs": [],
   "source": [
    "from keras import Sequential\n",
    "model = Sequential()"
   ]
  },
  {
   "cell_type": "code",
   "execution_count": 43,
   "id": "17f7321e",
   "metadata": {},
   "outputs": [],
   "source": [
    "from keras.layers import Dense\n",
    "model.add(\n",
    "    Dense(\n",
    "        input_shape=(784,),\n",
    "        units=512,\n",
    "        activation='relu',\n",
    "    )\n",
    ")"
   ]
  },
  {
   "cell_type": "code",
   "execution_count": 45,
   "id": "d8120ff7",
   "metadata": {},
   "outputs": [
    {
     "name": "stdout",
     "output_type": "stream",
     "text": [
      "Model: \"sequential\"\n",
      "_________________________________________________________________\n",
      "Layer (type)                 Output Shape              Param #   \n",
      "=================================================================\n",
      "dense (Dense)                (None, 512)               401920    \n",
      "=================================================================\n",
      "Total params: 401,920\n",
      "Trainable params: 401,920\n",
      "Non-trainable params: 0\n",
      "_________________________________________________________________\n"
     ]
    }
   ],
   "source": [
    "model.summary()"
   ]
  },
  {
   "cell_type": "code",
   "execution_count": 51,
   "id": "6ea49b2d",
   "metadata": {},
   "outputs": [],
   "source": [
    "model.add(\n",
    "    Dense(\n",
    "        units=256,\n",
    "        activation='relu',\n",
    "        \n",
    "    )\n",
    ")\n",
    "model.add(\n",
    "    Dense(\n",
    "        units=128,\n",
    "        activation='relu',\n",
    "        \n",
    "    )\n",
    ")\n",
    "model.add(\n",
    "    Dense(\n",
    "        units=64,\n",
    "        activation='relu',\n",
    "       \n",
    "    )\n",
    ")\n",
    "model.add(\n",
    "    Dense(\n",
    "        units=32,\n",
    "        activation='relu',\n",
    "       \n",
    "    )\n",
    ")\n",
    "model.add(\n",
    "    Dense(\n",
    "        units=10,\n",
    "        activation='softmax',\n",
    "        \n",
    "    )\n",
    ")"
   ]
  },
  {
   "cell_type": "code",
   "execution_count": 52,
   "id": "3c71e575",
   "metadata": {},
   "outputs": [
    {
     "name": "stdout",
     "output_type": "stream",
     "text": [
      "Model: \"sequential\"\n",
      "_________________________________________________________________\n",
      "Layer (type)                 Output Shape              Param #   \n",
      "=================================================================\n",
      "dense (Dense)                (None, 512)               401920    \n",
      "_________________________________________________________________\n",
      "dense_1 (Dense)              (None, 256)               131328    \n",
      "_________________________________________________________________\n",
      "dense_2 (Dense)              (None, 128)               32896     \n",
      "_________________________________________________________________\n",
      "dense_3 (Dense)              (None, 64)                8256      \n",
      "_________________________________________________________________\n",
      "dense_4 (Dense)              (None, 32)                2080      \n",
      "_________________________________________________________________\n",
      "dense_5 (Dense)              (None, 10)                330       \n",
      "_________________________________________________________________\n",
      "dense_6 (Dense)              (None, 256)               2816      \n",
      "_________________________________________________________________\n",
      "dense_7 (Dense)              (None, 128)               32896     \n",
      "_________________________________________________________________\n",
      "dense_8 (Dense)              (None, 64)                8256      \n",
      "_________________________________________________________________\n",
      "dense_9 (Dense)              (None, 32)                2080      \n",
      "_________________________________________________________________\n",
      "dense_10 (Dense)             (None, 10)                330       \n",
      "=================================================================\n",
      "Total params: 623,188\n",
      "Trainable params: 623,188\n",
      "Non-trainable params: 0\n",
      "_________________________________________________________________\n"
     ]
    }
   ],
   "source": [
    "model.summary()"
   ]
  },
  {
   "cell_type": "code",
   "execution_count": 53,
   "id": "c18c9ed0",
   "metadata": {},
   "outputs": [],
   "source": [
    "from keras.optimizers import RMSprop\n",
    "model.compile(optimizer=RMSprop(),loss='categorical_crossentropy',metrics=['accuracy'])"
   ]
  },
  {
   "cell_type": "code",
   "execution_count": 54,
   "id": "3be50924",
   "metadata": {},
   "outputs": [
    {
     "name": "stdout",
     "output_type": "stream",
     "text": [
      "Epoch 1/50\n",
      "1875/1875 [==============================] - 16s 9ms/step - loss: 1.7024 - accuracy: 0.3429\n",
      "Epoch 2/50\n",
      "1875/1875 [==============================] - 17s 9ms/step - loss: 1.4901 - accuracy: 0.4302\n",
      "Epoch 3/50\n",
      "1875/1875 [==============================] - 16s 8ms/step - loss: 1.3440 - accuracy: 0.4805\n",
      "Epoch 4/50\n",
      "1875/1875 [==============================] - 17s 9ms/step - loss: 1.3913 - accuracy: 0.4636\n",
      "Epoch 5/50\n",
      "1875/1875 [==============================] - 17s 9ms/step - loss: 1.6665 - accuracy: 0.3496\n",
      "Epoch 6/50\n",
      "1875/1875 [==============================] - 16s 9ms/step - loss: 1.9786 - accuracy: 0.2310\n",
      "Epoch 7/50\n",
      "1875/1875 [==============================] - 16s 9ms/step - loss: 2.0459 - accuracy: 0.1938\n",
      "Epoch 8/50\n",
      "1875/1875 [==============================] - 16s 9ms/step - loss: 2.0079 - accuracy: 0.2024\n",
      "Epoch 9/50\n",
      "1875/1875 [==============================] - 19s 10ms/step - loss: 2.0072 - accuracy: 0.2047\n",
      "Epoch 10/50\n",
      "1875/1875 [==============================] - 18s 9ms/step - loss: 2.0067 - accuracy: 0.2063\n",
      "Epoch 11/50\n",
      "1875/1875 [==============================] - 18s 9ms/step - loss: 2.0069 - accuracy: 0.2052\n",
      "Epoch 12/50\n",
      "1875/1875 [==============================] - 17s 9ms/step - loss: 2.0068 - accuracy: 0.2061\n",
      "Epoch 13/50\n",
      "1875/1875 [==============================] - 17s 9ms/step - loss: 2.0066 - accuracy: 0.2048\n",
      "Epoch 14/50\n",
      "1875/1875 [==============================] - 18s 10ms/step - loss: 2.0065 - accuracy: 0.2057\n",
      "Epoch 15/50\n",
      "1875/1875 [==============================] - 17s 9ms/step - loss: 2.0063 - accuracy: 0.2062\n",
      "Epoch 16/50\n",
      "1875/1875 [==============================] - 17s 9ms/step - loss: 2.0065 - accuracy: 0.2056\n",
      "Epoch 17/50\n",
      "1875/1875 [==============================] - 17s 9ms/step - loss: 2.0066 - accuracy: 0.2055\n",
      "Epoch 18/50\n",
      "1875/1875 [==============================] - 17s 9ms/step - loss: 2.0065 - accuracy: 0.2049\n",
      "Epoch 19/50\n",
      "1875/1875 [==============================] - 17s 9ms/step - loss: 2.0066 - accuracy: 0.2068\n",
      "Epoch 20/50\n",
      "1875/1875 [==============================] - 17s 9ms/step - loss: 2.0063 - accuracy: 0.2067\n",
      "Epoch 21/50\n",
      "1875/1875 [==============================] - 17s 9ms/step - loss: 2.0063 - accuracy: 0.2045\n",
      "Epoch 22/50\n",
      "1875/1875 [==============================] - 16s 9ms/step - loss: 2.0063 - accuracy: 0.2077\n",
      "Epoch 23/50\n",
      "1875/1875 [==============================] - 15s 8ms/step - loss: 2.0061 - accuracy: 0.2054\n",
      "Epoch 24/50\n",
      "1875/1875 [==============================] - 16s 9ms/step - loss: 2.0064 - accuracy: 0.2064\n",
      "Epoch 25/50\n",
      "1875/1875 [==============================] - 16s 8ms/step - loss: 2.0061 - accuracy: 0.2060\n",
      "Epoch 26/50\n",
      "1875/1875 [==============================] - 17s 9ms/step - loss: 2.0062 - accuracy: 0.2051\n",
      "Epoch 27/50\n",
      "1875/1875 [==============================] - 17s 9ms/step - loss: 2.0057 - accuracy: 0.2064\n",
      "Epoch 28/50\n",
      "1875/1875 [==============================] - 17s 9ms/step - loss: 2.0065 - accuracy: 0.2068\n",
      "Epoch 29/50\n",
      "1875/1875 [==============================] - 18s 10ms/step - loss: 2.0063 - accuracy: 0.2079\n",
      "Epoch 30/50\n",
      "1875/1875 [==============================] - 18s 9ms/step - loss: 2.0065 - accuracy: 0.2061\n",
      "Epoch 31/50\n",
      "1875/1875 [==============================] - 18s 9ms/step - loss: 2.0063 - accuracy: 0.2053\n",
      "Epoch 32/50\n",
      "1875/1875 [==============================] - 19s 10ms/step - loss: 2.0061 - accuracy: 0.2065\n",
      "Epoch 33/50\n",
      "1875/1875 [==============================] - 18s 10ms/step - loss: 2.0064 - accuracy: 0.2060\n",
      "Epoch 34/50\n",
      "1875/1875 [==============================] - 17s 9ms/step - loss: 2.0063 - accuracy: 0.2072\n",
      "Epoch 35/50\n",
      "1875/1875 [==============================] - 17s 9ms/step - loss: 2.0063 - accuracy: 0.2063\n",
      "Epoch 36/50\n",
      "1875/1875 [==============================] - 17s 9ms/step - loss: 2.0060 - accuracy: 0.2066\n",
      "Epoch 37/50\n",
      "1875/1875 [==============================] - 17s 9ms/step - loss: 2.0061 - accuracy: 0.2071\n",
      "Epoch 38/50\n",
      "1875/1875 [==============================] - 17s 9ms/step - loss: 2.0067 - accuracy: 0.2067\n",
      "Epoch 39/50\n",
      "1875/1875 [==============================] - 20s 10ms/step - loss: 2.0064 - accuracy: 0.2062\n",
      "Epoch 40/50\n",
      "1875/1875 [==============================] - 18s 10ms/step - loss: 2.0064 - accuracy: 0.2065\n",
      "Epoch 41/50\n",
      "1875/1875 [==============================] - 16s 9ms/step - loss: 2.0070 - accuracy: 0.2069\n",
      "Epoch 42/50\n",
      "1875/1875 [==============================] - 17s 9ms/step - loss: 2.0070 - accuracy: 0.2065\n",
      "Epoch 43/50\n",
      "1875/1875 [==============================] - 17s 9ms/step - loss: 2.0076 - accuracy: 0.2055\n",
      "Epoch 44/50\n",
      "1875/1875 [==============================] - 17s 9ms/step - loss: 2.0082 - accuracy: 0.2062\n",
      "Epoch 45/50\n",
      "1875/1875 [==============================] - 20s 10ms/step - loss: 2.0081 - accuracy: 0.2069\n",
      "Epoch 46/50\n",
      "1875/1875 [==============================] - 20s 10ms/step - loss: 2.0084 - accuracy: 0.2053\n",
      "Epoch 47/50\n",
      "1875/1875 [==============================] - 19s 10ms/step - loss: 2.0091 - accuracy: 0.2068\n",
      "Epoch 48/50\n",
      "1875/1875 [==============================] - 18s 9ms/step - loss: 2.0075 - accuracy: 0.2058\n",
      "Epoch 49/50\n",
      "1875/1875 [==============================] - 17s 9ms/step - loss: 2.0073 - accuracy: 0.2066\n",
      "Epoch 50/50\n",
      "1875/1875 [==============================] - 17s 9ms/step - loss: 2.0081 - accuracy: 0.2054\n"
     ]
    },
    {
     "data": {
      "text/plain": [
       "<tensorflow.python.keras.callbacks.History at 0x14da3df53d0>"
      ]
     },
     "execution_count": 54,
     "metadata": {},
     "output_type": "execute_result"
    }
   ],
   "source": [
    "#accuracy is less so do some modifications in hyper parameter\n",
    "model.fit(X_train,y_train_cat,epochs=50)"
   ]
  },
  {
   "cell_type": "code",
   "execution_count": 55,
   "id": "5b0fac54",
   "metadata": {},
   "outputs": [],
   "source": [
    "import pandas as pd"
   ]
  },
  {
   "cell_type": "code",
   "execution_count": 56,
   "id": "21ebbe3e",
   "metadata": {},
   "outputs": [],
   "source": [
    "loss = pd.DataFrame(model.history.history['loss'])\n",
    "accuracy = pd.DataFrame(model.history.history['accuracy'])"
   ]
  },
  {
   "cell_type": "code",
   "execution_count": 57,
   "id": "08c50513",
   "metadata": {},
   "outputs": [
    {
     "data": {
      "text/plain": [
       "<AxesSubplot:>"
      ]
     },
     "execution_count": 57,
     "metadata": {},
     "output_type": "execute_result"
    },
    {
     "data": {
      "image/png": "[encoded data removed]",
      "text/plain": [
       "<Figure size 432x288 with 1 Axes>"
      ]
     },
     "metadata": {
      "needs_background": "light"
     },
     "output_type": "display_data"
    }
   ],
   "source": [
    "loss.plot()"
   ]
  },
  {
   "cell_type": "code",
   "execution_count": 58,
   "id": "6527a7c1",
   "metadata": {},
   "outputs": [
    {
     "data": {
      "text/plain": [
       "<AxesSubplot:>"
      ]
     },
     "execution_count": 58,
     "metadata": {},
     "output_type": "execute_result"
    },
    {
     "data": {
      "image/png": "[encoded data removed]",
      "text/plain": [
       "<Figure size 432x288 with 1 Axes>"
      ]
     },
     "metadata": {
      "needs_background": "light"
     },
     "output_type": "display_data"
    }
   ],
   "source": [
    "accuracy.plot()"
   ]
  },
  {
   "cell_type": "code",
   "execution_count": 59,
   "id": "b3a5d22c",
   "metadata": {},
   "outputs": [],
   "source": [
    "X_test_1d = X_test.reshape(-1,28*28)"
   ]
  },
  {
   "cell_type": "code",
   "execution_count": 60,
   "id": "c717e6a4",
   "metadata": {},
   "outputs": [],
   "source": [
    "predicted_data = model.predict(X_test_1d)"
   ]
  },
  {
   "cell_type": "code",
   "execution_count": 62,
   "id": "f513cbf0",
   "metadata": {},
   "outputs": [
    {
     "data": {
      "text/plain": [
       "array([0.10747045, 0.01071547, 0.11270999, 0.11096365, 0.10952052,\n",
       "       0.10064095, 0.11001694, 0.11745883, 0.10795572, 0.11254743],\n",
       "      dtype=float32)"
      ]
     },
     "execution_count": 62,
     "metadata": {},
     "output_type": "execute_result"
    }
   ],
   "source": [
    "predicted_data[1]"
   ]
  },
  {
   "cell_type": "code",
   "execution_count": 63,
   "id": "549be5e0",
   "metadata": {},
   "outputs": [],
   "source": [
    "sum = 0\n",
    "for i in predicted_data[1]:\n",
    "    sum = sum + i"
   ]
  },
  {
   "cell_type": "code",
   "execution_count": 64,
   "id": "abcd5b38",
   "metadata": {},
   "outputs": [
    {
     "data": {
      "text/plain": [
       "0.9999999450519681"
      ]
     },
     "execution_count": 64,
     "metadata": {},
     "output_type": "execute_result"
    }
   ],
   "source": [
    "sum"
   ]
  },
  {
   "cell_type": "code",
   "execution_count": null,
   "id": "fbddb5c3",
   "metadata": {},
   "outputs": [],
   "source": []
  }
 ],
 "metadata": {
  "kernelspec": {
   "display_name": "Python 3",
   "language": "python",
   "name": "python3"
  },
  "language_info": {
   "codemirror_mode": {
    "name": "ipython",
    "version": 3
   },
   "file_extension": ".py",
   "mimetype": "text/x-python",
   "name": "python",
   "nbconvert_exporter": "python",
   "pygments_lexer": "ipython3",
   "version": "3.8.8"
  }
 },
 "nbformat": 4,
 "nbformat_minor": 5
}
